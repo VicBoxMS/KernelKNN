{
  "nbformat": 4,
  "nbformat_minor": 0,
  "metadata": {
    "colab": {
      "name": "Kernel knn.ipynb",
      "provenance": [],
      "collapsed_sections": []
    },
    "kernelspec": {
      "name": "python3",
      "display_name": "Python 3"
    },
    "language_info": {
      "name": "python"
    }
  },
  "cells": [
    {
      "cell_type": "markdown",
      "source": [
        "## Librerias a utilizar\n"
      ],
      "metadata": {
        "id": "jXZp7dGNmu1B"
      }
    },
    {
      "cell_type": "code",
      "execution_count": null,
      "metadata": {
        "id": "ThrQLyyPqLGR"
      },
      "outputs": [],
      "source": [
        "import numpy as np\n",
        "import time\n",
        "from tqdm import *\n",
        "import pandas as pd\n",
        "from sklearn.preprocessing import LabelEncoder \n",
        "from time import process_time\n",
        "from sklearn.datasets import load_digits\n",
        "from sklearn.decomposition import KernelPCA\n",
        "from sklearn.neighbors import KNeighborsClassifier\n",
        "from sklearn.datasets import make_moons, make_circles\n",
        "from sklearn.metrics import f1_score , accuracy_score\n",
        "from sklearn.preprocessing import StandardScaler , MinMaxScaler\n",
        "from sklearn.datasets import load_breast_cancer\n",
        "from sklearn.datasets import load_iris\n",
        "from sklearn.preprocessing import LabelEncoder \n",
        "from sklearn.model_selection import train_test_split\n",
        "from sklearn.svm import SVC\n",
        "from sklearn.metrics import f1_score , accuracy_score\n",
        "from sklearn.metrics import confusion_matrix\n",
        "from sklearn.ensemble import RandomForestClassifier \n",
        "from sklearn.linear_model import LogisticRegression\n",
        "from sklearn.metrics.pairwise import rbf_kernel, polynomial_kernel\n",
        "import csv\n",
        "from sklearn.metrics.pairwise import rbf_kernel, polynomial_kernel,euclidean_distances\n",
        "import warnings\n",
        "warnings.filterwarnings(\"ignore\")\n",
        "from sklearn.neural_network import MLPClassifier\n",
        "from sklearn.model_selection import cross_val_score"
      ]
    },
    {
      "cell_type": "markdown",
      "source": [
        "> Si se desea utilizar archivos csv para realizar la clasificación"
      ],
      "metadata": {
        "id": "BkRveu1AmH4j"
      }
    },
    {
      "cell_type": "code",
      "source": [
        "\"\"\"\n",
        "Si se desea utilizar unos datos en especifico\n",
        "#path_datos='/content/drive/MyDrive/datos_prueba/datos_medianos/shuttle_test.csv'\n",
        "#path_datos='/content/drive/MyDrive/datos_prueba/datos_pequenos/segment.csv'\n",
        "#path_datos='/content/drive/MyDrive/datos_prueba/datos_pequenos/spambase.csv'\n",
        "#path_datos='/content/drive/MyDrive/datos_prueba/airline_minmax.csv'\n",
        "df=pd.read_csv(path_datos)\n",
        "labelencoder= LabelEncoder()\n",
        "df.iloc[:,-1] = labelencoder.fit_transform(df.iloc[:,-1]) \n",
        "data=list()\n",
        "data={'data':np.array(df.iloc[:,:-1]),'target':np.array(df.iloc[:,-1])}\n",
        "\"\"\""
      ],
      "metadata": {
        "colab": {
          "base_uri": "https://localhost:8080/",
          "height": 89
        },
        "id": "4mPxalCgUuDE",
        "outputId": "6b78f4d9-f3e4-4e2c-a42a-3c50736966f3"
      },
      "execution_count": null,
      "outputs": [
        {
          "output_type": "execute_result",
          "data": {
            "text/plain": [
              "\"\\nSi se desea utilizar unos datos en especifico\\n#path_datos='/content/drive/MyDrive/datos_prueba/datos_medianos/shuttle_test.csv'\\n#path_datos='/content/drive/MyDrive/datos_prueba/datos_pequenos/segment.csv'\\n#path_datos='/content/drive/MyDrive/datos_prueba/datos_pequenos/spambase.csv'\\n#path_datos='/content/drive/MyDrive/datos_prueba/airline_minmax.csv'\\ndf=pd.read_csv(path_datos)\\nlabelencoder= LabelEncoder()\\ndf.iloc[:,-1] = labelencoder.fit_transform(df.iloc[:,-1]) \\ndata=list()\\ndata={'data':np.array(df.iloc[:,:-1]),'target':np.array(df.iloc[:,-1])}\\n\""
            ],
            "application/vnd.google.colaboratory.intrinsic+json": {
              "type": "string"
            }
          },
          "metadata": {},
          "execution_count": 2
        }
      ]
    },
    {
      "cell_type": "markdown",
      "source": [
        "> Cargamos los datos iris"
      ],
      "metadata": {
        "id": "MgHN6o8gVL71"
      }
    },
    {
      "cell_type": "code",
      "source": [
        "data=load_iris()\n",
        "X = np.array(data['data'][:,:])\n",
        "y = np.array(data['target'])\n",
        "X_train, X_test, y_train, y_test = train_test_split(X,y ,test_size=0.1, random_state=0)#"
      ],
      "metadata": {
        "id": "xNPFx6Ki-FgE"
      },
      "execution_count": null,
      "outputs": []
    },
    {
      "cell_type": "code",
      "source": [
        "#Definimos las expresion de distancia en el espacio kernel\n",
        "def distancia_gaussiana(x, y, **kwargs):\n",
        "  return 2-np.exp(-kwargs[\"gamma\"]*np.linalg.norm(x-y)**2) \n",
        "def distancia_polynomial(x, y, **kwargs):\n",
        "  return np.dot(x,x)**kwargs[\"param_d\"]+np.dot(y,y)**kwargs[\"param_d\"]-2*np.dot(x,y)**kwargs[\"param_d\"] \n",
        "def distancia_sigmoidal(x, y, **kwargs):\n",
        "  return np.tanh(np.dot(x,x)+kwargs[\"param_d\"])+np.tanh(np.dot(y,y)+kwargs[\"param_d\"])-2+np.tanh(np.dot(x,y)+kwargs[\"param_d\"]) \n",
        "def distancia_cuadratico_racional(x, y, **kwargs):\n",
        "  return 2 - 2 * (1 - ( (np.linalg.norm(x-y)**2) / (np.linalg.norm(x-y)**2+kwargs[\"gamma\"])))\n",
        "def distancia_t_student_generalizado(x, y, **kwargs):\n",
        "  return 2- (2/(1+ np.linalg.norm(x-y)**kwargs[\"param_d\"]))\n",
        "def distancia_nucleo_cauchy(x, y, **kwargs):\n",
        "  return 2- 2*(1/( 1 + ((np.linalg.norm(x-y)**2)))) "
      ],
      "metadata": {
        "id": "bYvG53KE-ooq"
      },
      "execution_count": null,
      "outputs": []
    },
    {
      "cell_type": "markdown",
      "source": [
        "### kernel knn polynomial\n",
        "\n",
        "> parametros kernel polynomial [1,2,3,4,5,6,7,8,9,10,11,12,13,14,15,16,17]\n",
        "> #Probamos como funciona para un unico valor train-test y para el kernel polynomial"
      ],
      "metadata": {
        "id": "SzxCHmO5-mTp"
      }
    },
    {
      "cell_type": "code",
      "source": [
        "grilla_de_parametros = [1,2,3,4,5,6,7,8,9,10,11,12,13,14,15,16,17]\n",
        "for p in grilla_de_parametros:\n",
        "  kknn = KNeighborsClassifier(n_neighbors=1, algorithm='ball_tree',metric=distancia_polynomial, metric_params={\"param_d\": p})\n",
        "  kknn.fit(X_train, y_train)\n",
        "  y_predicho = kknn.predict(X_test)\n",
        "  print('parametro:',p, f1_score(y_test,y_predicho,average='macro'))"
      ],
      "metadata": {
        "colab": {
          "base_uri": "https://localhost:8080/"
        },
        "id": "LhmI-6fl-oq9",
        "outputId": "e3da2297-975e-4f70-bf57-f32f9cdf68c3"
      },
      "execution_count": null,
      "outputs": [
        {
          "output_type": "stream",
          "name": "stdout",
          "text": [
            "parametro: 1 1.0\n",
            "parametro: 2 1.0\n",
            "parametro: 3 1.0\n",
            "parametro: 4 1.0\n",
            "parametro: 5 1.0\n",
            "parametro: 6 1.0\n",
            "parametro: 7 1.0\n",
            "parametro: 8 1.0\n",
            "parametro: 9 1.0\n",
            "parametro: 10 1.0\n",
            "parametro: 11 1.0\n",
            "parametro: 12 1.0\n",
            "parametro: 13 1.0\n",
            "parametro: 14 1.0\n",
            "parametro: 15 1.0\n",
            "parametro: 16 1.0\n",
            "parametro: 17 1.0\n"
          ]
        }
      ]
    },
    {
      "cell_type": "markdown",
      "source": [
        "## Kernel knn gaussiano\n",
        "> #Probamos como funciona para un unico valor train-test y para el kernel rbf"
      ],
      "metadata": {
        "id": "m4Q2EI-y_Yw3"
      }
    },
    {
      "cell_type": "code",
      "source": [
        "grilla_de_parametros = [0.000001,0.000005,0.00001,0.00005,0.0001,0.0005,0.001,0.005,0.01,0.05,0.1,0.5,1,5,10,50]\n",
        "for p in grilla_de_parametros:\n",
        "  nbrs = KNeighborsClassifier(n_neighbors=1, algorithm='ball_tree',metric=distancia_gaussiana, metric_params={\"gamma\": p})\n",
        "  nbrs.fit(X_train, y_train)\n",
        "  y_predicho = nbrs.predict(X_test)\n",
        "  print('parametro:',p, 'f1_score:', f1_score(y_test,y_predicho,average='macro'))"
      ],
      "metadata": {
        "colab": {
          "base_uri": "https://localhost:8080/"
        },
        "id": "EWhfEaH2CsF6",
        "outputId": "18af1563-b4c1-475a-ed09-5e5fb2a71423"
      },
      "execution_count": null,
      "outputs": [
        {
          "output_type": "stream",
          "name": "stdout",
          "text": [
            "parametro: 1e-06 f1_score: 1.0\n",
            "parametro: 5e-06 f1_score: 1.0\n",
            "parametro: 1e-05 f1_score: 1.0\n",
            "parametro: 5e-05 f1_score: 1.0\n",
            "parametro: 0.0001 f1_score: 1.0\n",
            "parametro: 0.0005 f1_score: 1.0\n",
            "parametro: 0.001 f1_score: 1.0\n",
            "parametro: 0.005 f1_score: 1.0\n",
            "parametro: 0.01 f1_score: 1.0\n",
            "parametro: 0.05 f1_score: 1.0\n",
            "parametro: 0.1 f1_score: 1.0\n",
            "parametro: 0.5 f1_score: 1.0\n",
            "parametro: 1 f1_score: 1.0\n",
            "parametro: 5 f1_score: 1.0\n",
            "parametro: 10 f1_score: 1.0\n",
            "parametro: 50 f1_score: 1.0\n"
          ]
        }
      ]
    },
    {
      "cell_type": "code",
      "source": [
        "## Comparacion con el algoritmo original KNN, distancia euclideana\n",
        "nbrs = KNeighborsClassifier(n_neighbors=1,metric='euclidean')\n",
        "nbrs.fit(X_train, y_train)\n",
        "y_predicho = nbrs.predict(X_test)\n",
        "f1_score(y_test,y_predicho,average='macro')"
      ],
      "metadata": {
        "colab": {
          "base_uri": "https://localhost:8080/"
        },
        "id": "AMOl_v7R_DAZ",
        "outputId": "c82edc08-fa05-4c4d-a11c-a05b2ee37bba"
      },
      "execution_count": null,
      "outputs": [
        {
          "output_type": "execute_result",
          "data": {
            "text/plain": [
              "1.0"
            ]
          },
          "metadata": {},
          "execution_count": 16
        }
      ]
    },
    {
      "cell_type": "markdown",
      "source": [
        "# Validación cruzada para tener una idea del rendimiento real"
      ],
      "metadata": {
        "id": "YdgFdKDBWPSP"
      }
    },
    {
      "cell_type": "code",
      "source": [
        "recolector_scores = []\n",
        "grilla_de_parametros = [1,2,3,4,5,6,7,8,9,10,11,12,13,14,15,16,17,18,19]\n",
        "for p in grilla_de_parametros:\n",
        "  kknn = KNeighborsClassifier(n_neighbors=1, algorithm='ball_tree',metric=distancia_polynomial,metric_params={\"param_d\": p })\n",
        "  scores = cross_val_score(kknn, X_train, y_train, cv=5,scoring='f1_macro')\n",
        "  recolector_scores.append(np.mean(scores))"
      ],
      "metadata": {
        "id": "ouP68GkaALa9"
      },
      "execution_count": null,
      "outputs": []
    },
    {
      "cell_type": "code",
      "source": [
        "nbrs = KNeighborsClassifier(n_neighbors=1,metric='euclidean')\n",
        "score_euclidean = cross_val_score(nbrs, X_train, y_train, cv=5,scoring='f1_macro')\n",
        "np.mean(score_euclidean)"
      ],
      "metadata": {
        "colab": {
          "base_uri": "https://localhost:8080/"
        },
        "id": "nSXVgjPu-Fn7",
        "outputId": "c1ddb481-5b70-4b6a-97f1-3e88e6c97972"
      },
      "execution_count": null,
      "outputs": [
        {
          "output_type": "execute_result",
          "data": {
            "text/plain": [
              "0.9526027189185085"
            ]
          },
          "metadata": {},
          "execution_count": 18
        }
      ]
    },
    {
      "cell_type": "code",
      "source": [
        "import matplotlib.pyplot as plt\n",
        "plt.title('5-CV')\n",
        "plt.scatter(grilla_de_parametros,recolector_scores,color='orange',label='kknn-polynomial')\n",
        "plt.axhline(np.mean(score_euclidean),color='blue',label='knn_euclidean')\n",
        "plt.legend()\n",
        "plt.show()"
      ],
      "metadata": {
        "id": "vdLHZ2Wn-FrP",
        "colab": {
          "base_uri": "https://localhost:8080/",
          "height": 281
        },
        "outputId": "1c1d4000-3e96-4a28-b3b5-1b7b3f78ea8e"
      },
      "execution_count": null,
      "outputs": [
        {
          "output_type": "display_data",
          "data": {
            "text/plain": [
              "<Figure size 432x288 with 1 Axes>"
            ],
            "image/png": "[encoded data removed]"
          },
          "metadata": {
            "needs_background": "light"
          }
        }
      ]
    }
  ]
}